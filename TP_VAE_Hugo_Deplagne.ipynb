{
 "cells": [
  {
   "cell_type": "markdown",
   "metadata": {
    "id": "VWK7Q9YVip8B"
   },
   "source": [
    "# TP : Auto-encodeurs variationnels\n",
    "\n",
    "Dans ce TP, dans un premier temps, nous allons entraîner un modèle génératif de type d'auto-encodeur variationnel sur le jeu de données MNIST (chiffres manuscrits de 0 à 9). Dans un deuxième, temps nous allons essayer de générer des chiffres en échantiollannant dans l'espace latent."
   ]
  },
  {
   "cell_type": "code",
   "execution_count": 1,
   "metadata": {
    "id": "Gp0TzKOuinnz"
   },
   "outputs": [
    {
     "name": "stderr",
     "output_type": "stream",
     "text": [
      "/home/coartix/.local/lib/python3.10/site-packages/torchvision/io/image.py:13: UserWarning: Failed to load image Python extension: 'libc10_hip.so: cannot open shared object file: No such file or directory'If you don't plan on using image functionality from `torchvision.io`, you can ignore this warning. Otherwise, there might be something wrong with your environment. Did you have `libjpeg` or `libpng` installed before building `torchvision` from source?\n",
      "  warn(\n"
     ]
    },
    {
     "name": "stdout",
     "output_type": "stream",
     "text": [
      "Epoch 0, Loss: 168.79009226888022\n",
      "Epoch 1, Loss: 125.66821219075521\n",
      "Epoch 2, Loss: 116.8835688313802\n",
      "Epoch 3, Loss: 112.75860734049479\n",
      "Epoch 4, Loss: 110.3842958984375\n",
      "Epoch 5, Loss: 108.87635533854167\n",
      "Epoch 6, Loss: 107.90655930989584\n",
      "Epoch 7, Loss: 107.17104379882812\n",
      "Epoch 8, Loss: 106.6045611328125\n",
      "Epoch 9, Loss: 106.158919140625\n"
     ]
    }
   ],
   "source": [
    "import torch\n",
    "from torch import nn\n",
    "from torchvision import datasets, transforms\n",
    "from torch.utils.data import DataLoader\n",
    "\n",
    "class VAE(nn.Module):\n",
    "    def __init__(self):\n",
    "        super(VAE, self).__init__()\n",
    "\n",
    "        # Encodeur\n",
    "        self.fc1 = nn.Linear(784, 400)\n",
    "        self.fc21 = nn.Linear(400, 50)  # Moyenne mu\n",
    "        self.fc22 = nn.Linear(400, 50)  # Log-variance\n",
    "\n",
    "        # Décodeur\n",
    "        self.fc3 = nn.Linear(50, 400)\n",
    "        self.fc4 = nn.Linear(400, 784)\n",
    "\n",
    "    def encode(self, x):\n",
    "        h1 = torch.relu(self.fc1(x))\n",
    "        return self.fc21(h1), self.fc22(h1)\n",
    "\n",
    "    def reparameterize(self, mu, logvar):\n",
    "        std = torch.exp(0.5*logvar)\n",
    "        eps = torch.randn_like(std)\n",
    "        return mu + eps*std\n",
    "\n",
    "    def decode(self, z):\n",
    "        h3 = torch.relu(self.fc3(z))\n",
    "        return torch.sigmoid(self.fc4(h3))\n",
    "\n",
    "    def forward(self, x):\n",
    "        mu, logvar = self.encode(x.view(-1, 784))\n",
    "        z = self.reparameterize(mu, logvar)\n",
    "        return self.decode(z), mu, logvar\n",
    "\n",
    "# Fonction de perte\n",
    "def loss_function(recon_x, x, mu, logvar):\n",
    "    BCE = nn.functional.binary_cross_entropy(recon_x, x.view(-1, 784), reduction='sum')\n",
    "    KLD = -0.5 * torch.sum(1 + logvar - mu.pow(2) - logvar.exp())\n",
    "    return BCE + KLD\n",
    "\n",
    "# Paramètres\n",
    "device = torch.device(\"cuda\" if torch.cuda.is_available() else \"cpu\")\n",
    "vae = VAE().to(device)\n",
    "optimizer = torch.optim.Adam(vae.parameters(), lr=1e-3)\n",
    "\n",
    "# Chargement des données MNIST\n",
    "train_loader = DataLoader(\n",
    "    datasets.MNIST('./data', train=True, download=True,\n",
    "                   transform=transforms.ToTensor()),\n",
    "    batch_size=128, shuffle=True)\n",
    "\n",
    "for epoch in range(10):\n",
    "    vae.train()\n",
    "    train_loss = 0\n",
    "    for data, _ in train_loader:\n",
    "        data = data.to(device)\n",
    "        optimizer.zero_grad()\n",
    "        recon_batch, mu, logvar = vae(data)\n",
    "        loss = loss_function(recon_batch, data, mu, logvar)\n",
    "        loss.backward()\n",
    "        train_loss += loss.item()\n",
    "        optimizer.step()\n",
    "\n",
    "    print(f'Epoch {epoch}, Loss: {train_loss / len(train_loader.dataset)}')"
   ]
  },
  {
   "cell_type": "markdown",
   "metadata": {
    "id": "_A32BFeElUJ0"
   },
   "source": [
    "## Exercices\n",
    "\n",
    "* Rédiger un code Python qui permet d'échantiollonner à partir de l'espace latent pour générer de nouvelles images.\n",
    "* Changer la dimension de l'espace latent.\n",
    "* Changer l'architecture du VAE.\n",
    "* Paramétrer la fonction loss pour pondérer les deux termes (reconstruction et régularisation).\n",
    "* Optionnel : entraîner le modèle sur un autre dataset."
   ]
  },
  {
   "cell_type": "markdown",
   "metadata": {},
   "source": [
    "#### Echantillonner à partir de l'espace latent"
   ]
  },
  {
   "cell_type": "code",
   "execution_count": 2,
   "metadata": {},
   "outputs": [
    {
     "data": {
      "image/png": "[encoded data removed]",
      "text/plain": [
       "<Figure size 1000x200 with 10 Axes>"
      ]
     },
     "metadata": {},
     "output_type": "display_data"
    }
   ],
   "source": [
    "import matplotlib.pyplot as plt\n",
    "\n",
    "def sample_latent_space(vae, num_samples=10):\n",
    "    with torch.no_grad():\n",
    "        # Generate random points in the latent space\n",
    "        z = torch.randn(num_samples, 50).to(device)  # 50 is the size of the latent space in your VAE\n",
    "\n",
    "        # Decode these points to generate images\n",
    "        samples = vae.decode(z).cpu()\n",
    "\n",
    "        # Reshape the output to image dimensions (for MNIST: 28x28)\n",
    "        samples = samples.view(num_samples, 28, 28)\n",
    "\n",
    "        return samples\n",
    "\n",
    "# Generate samples\n",
    "num_samples = 10\n",
    "generated_images = sample_latent_space(vae, num_samples)\n",
    "\n",
    "# Display the generated images\n",
    "fig, axes = plt.subplots(1, num_samples, figsize=(10, 2))\n",
    "for i, ax in enumerate(axes):\n",
    "    ax.imshow(generated_images[i], cmap='gray')\n",
    "    ax.axis('off')\n",
    "plt.show()"
   ]
  },
  {
   "cell_type": "markdown",
   "metadata": {},
   "source": [
    "#### Changer la dimension de l'espace latent et changer l'architecture du VAE"
   ]
  },
  {
   "cell_type": "code",
   "execution_count": 3,
   "metadata": {},
   "outputs": [],
   "source": [
    "class ConvVAE(nn.Module):\n",
    "    def __init__(self, latent_dim=20):\n",
    "        super(ConvVAE, self).__init__()\n",
    "\n",
    "        # Encoder\n",
    "        self.encoder = nn.Sequential(\n",
    "            nn.Conv2d(1, 16, kernel_size=3, stride=2, padding=1),  # 16 x 14 x 14\n",
    "            nn.ReLU(),\n",
    "            nn.Conv2d(16, 32, kernel_size=3, stride=2, padding=1),  # 32 x 7 x 7\n",
    "            nn.ReLU(),\n",
    "            nn.Flatten()\n",
    "        )\n",
    "        self.fc1 = nn.Linear(32 * 7 * 7, latent_dim)\n",
    "        self.fc2 = nn.Linear(32 * 7 * 7, latent_dim)\n",
    "\n",
    "        # Decoder\n",
    "        self.fc3 = nn.Linear(latent_dim, 32 * 7 * 7)\n",
    "        self.decoder = nn.Sequential(\n",
    "            nn.Unflatten(1, (32, 7, 7)),\n",
    "            nn.ConvTranspose2d(32, 16, kernel_size=3, stride=2, padding=1, output_padding=1),  # 16 x 14 x 14\n",
    "            nn.ReLU(),\n",
    "            nn.ConvTranspose2d(16, 1, kernel_size=3, stride=2, padding=1, output_padding=1),  # 1 x 28 x 28\n",
    "            nn.Sigmoid()\n",
    "        )\n",
    "\n",
    "    def encode(self, x):\n",
    "        x = self.encoder(x)\n",
    "        return self.fc1(x), self.fc2(x)\n",
    "\n",
    "    def reparameterize(self, mu, logvar):\n",
    "        std = torch.exp(0.5 * logvar)\n",
    "        eps = torch.randn_like(std)\n",
    "        return mu + eps * std\n",
    "\n",
    "    def decode(self, z):\n",
    "        z = self.fc3(z)\n",
    "        return self.decoder(z)\n",
    "\n",
    "    def forward(self, x):\n",
    "        mu, logvar = self.encode(x)\n",
    "        z = self.reparameterize(mu, logvar)\n",
    "        return self.decode(z), mu, logvar"
   ]
  },
  {
   "cell_type": "markdown",
   "metadata": {},
   "source": [
    "#### Paramétrage de la fonction loss pour pondérer les deux termes (reconstruction et régularisation)."
   ]
  },
  {
   "cell_type": "code",
   "execution_count": 4,
   "metadata": {},
   "outputs": [
    {
     "name": "stdout",
     "output_type": "stream",
     "text": [
      "Epoch 0, Loss: 179.77119777018228\n",
      "Epoch 1, Loss: 124.9609416829427\n",
      "Epoch 2, Loss: 119.91755847981771\n",
      "Epoch 3, Loss: 116.29162351888021\n",
      "Epoch 4, Loss: 113.72768546549479\n",
      "Epoch 5, Loss: 111.90022443033854\n",
      "Epoch 6, Loss: 110.57565550130208\n",
      "Epoch 7, Loss: 109.4913608561198\n",
      "Epoch 8, Loss: 108.73025571289062\n",
      "Epoch 9, Loss: 108.18895148111979\n"
     ]
    }
   ],
   "source": [
    "def vae_loss_function(recon_x, x, mu, logvar, recon_weight=1.0, kld_weight=1.0):\n",
    "    recon_loss = nn.functional.binary_cross_entropy(recon_x, x, reduction='sum')\n",
    "    kld_loss = -0.5 * torch.sum(1 + logvar - mu.pow(2) - logvar.exp())\n",
    "\n",
    "    # Weighted sum of the two losses\n",
    "    total_loss = recon_weight * recon_loss + kld_weight * kld_loss\n",
    "    return total_loss\n",
    "\n",
    "# Instantiate and train the ConvVAE\n",
    "latent_dim = 20\n",
    "conv_vae = ConvVAE(latent_dim=latent_dim).to(device)\n",
    "optimizer = torch.optim.Adam(conv_vae.parameters(), lr=1e-3)\n",
    "\n",
    "for epoch in range(10):\n",
    "    conv_vae.train()\n",
    "    train_loss = 0\n",
    "    for data, _ in train_loader:\n",
    "        data = data.to(device)\n",
    "        optimizer.zero_grad()\n",
    "        recon_batch, mu, logvar = conv_vae(data)\n",
    "        loss = vae_loss_function(recon_batch, data, mu, logvar)\n",
    "        loss.backward()\n",
    "        train_loss += loss.item()\n",
    "        optimizer.step()\n",
    "\n",
    "    print(f'Epoch {epoch}, Loss: {train_loss / len(train_loader.dataset)}')"
   ]
  },
  {
   "cell_type": "code",
   "execution_count": 5,
   "metadata": {},
   "outputs": [
    {
     "data": {
      "image/png": "[encoded data removed]",
      "text/plain": [
       "<Figure size 1000x1000 with 10 Axes>"
      ]
     },
     "metadata": {},
     "output_type": "display_data"
    }
   ],
   "source": [
    "def visualize_latent_space(vae, num_samples=10, latent_dim=20):\n",
    "    # Sample random vectors from the normal distribution\n",
    "    z = torch.randn(num_samples, latent_dim).to(device)\n",
    "    \n",
    "    # Decode the sample latent vectors\n",
    "    with torch.no_grad():\n",
    "        generated_images = vae.decode(z).cpu()\n",
    "    \n",
    "    # The output of the decoder will be a flattened vector if your VAE is designed for MNIST\n",
    "    # So, reshape it back to image size (28x28 for MNIST)\n",
    "    generated_images = generated_images.view(num_samples, 1, 28, 28)\n",
    "\n",
    "    # Plot the generated images\n",
    "    fig, axes = plt.subplots(1, num_samples, figsize=(10, 10))\n",
    "    for i, ax in enumerate(axes):\n",
    "        ax.imshow(generated_images[i].squeeze(0), cmap='gray')\n",
    "        ax.axis('off')\n",
    "    plt.show()\n",
    "\n",
    "visualize_latent_space(conv_vae, num_samples=10, latent_dim=latent_dim)"
   ]
  }
 ],
 "metadata": {
  "colab": {
   "authorship_tag": "ABX9TyMcuEvLJhrITEpte62apkil",
   "provenance": [
    {
     "file_id": "152oRLdt5-0xt9l0joUHJpO18o9Kypo-F",
     "timestamp": 1700128920610
    }
   ]
  },
  "kernelspec": {
   "display_name": "Python 3 (ipykernel)",
   "language": "python",
   "name": "python3"
  },
  "language_info": {
   "codemirror_mode": {
    "name": "ipython",
    "version": 3
   },
   "file_extension": ".py",
   "mimetype": "text/x-python",
   "name": "python",
   "nbconvert_exporter": "python",
   "pygments_lexer": "ipython3",
   "version": "3.10.12"
  }
 },
 "nbformat": 4,
 "nbformat_minor": 1
}
